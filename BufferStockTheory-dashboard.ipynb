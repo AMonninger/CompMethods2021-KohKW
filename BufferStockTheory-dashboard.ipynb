{
 "cells": [
  {
   "cell_type": "markdown",
   "metadata": {},
   "source": [
    "# Theoretical Foundations of Buffer Stock Saving -- Interactive Figures\n",
    "\n",
    "[![econ-ark.org](https://img.shields.io/badge/Powered%20by-Econ--ARK-3e8acc.svg)](https://econ-ark.org/materials/BufferStockTheory)\n",
    "\n",
    "(Execute the cells below one at a time to activate the corresponding interactive tools)"
   ]
  },
  {
   "cell_type": "code",
   "execution_count": null,
   "metadata": {},
   "outputs": [],
   "source": [
    "# Make sure we have things set up correctly\n",
    "\n",
    "# Get others' tools\n",
    "import os.path\n",
    "\n",
    "# Make sure requirements have been satisfied\n",
    "if os.path.isdir('binder'):  # Folder defining requirements exists\n",
    "    # File requirements.out should be created first time notebook is run\n",
    "    if not os.path.isfile('./binder/requirements.out'):  \n",
    "        !(pip install -r ./binder/requirements.txt > ./binder/requirements.out)\n",
    "\n",
    "from ipywidgets import interact, interactive, fixed, interact_manual\n",
    "\n",
    "# Get HARK modeling tool\n",
    "from HARK.ConsumptionSaving.ConsIndShockModel import IndShockConsumerType\n",
    "\n",
    "# Get BufferStockTheory dashboard tools\n",
    "import Dashboard.dashboard_widget as BST"
   ]
  },
  {
   "cell_type": "markdown",
   "metadata": {},
   "source": [
    "## Convergence of the Consumption Rules\n",
    "\n",
    "Under the given parameter values, [the paper's first figure](http://econ.jhu.edu/people/ccarroll/papers/BufferStockTheory/#Convergence-of-the-Consumption-Rules) depicts the successive consumption rules that apply in the last period of life $(c_{T}(m))$, the second-to-last period, and earlier periods $(c_{T-n})$.  $c(m)$ is the consumption function to which these converge:\n",
    "\n",
    "$$\n",
    "c(m) = \\lim_{n \\uparrow \\infty} c_{T-n}(m)\n",
    "$$\n"
   ]
  },
  {
   "cell_type": "code",
   "execution_count": null,
   "metadata": {},
   "outputs": [],
   "source": [
    "# Risk aversion ρ and σ_ψ have the most interesting effects\n",
    "\n",
    "cFuncsConverge_widget=interactive(\n",
    "    BST.makeConvergencePlot,\n",
    "    DiscFac=BST.DiscFac_widget[0],\n",
    "    CRRA=BST.CRRA_widget[0],\n",
    "    Rfree=BST.Rfree_widget[0],\n",
    "    permShkStd=BST.permShkStd_widget[0],\n",
    ")\n",
    "cFuncsConverge_widget"
   ]
  },
  {
   "cell_type": "markdown",
   "metadata": {},
   "source": [
    "## [Growth Impatience (Raw and Normalized), and Pseudo-Steady-State versus Target Wealth](http://econ.jhu.edu/people/ccarroll/papers/BufferStockTheory/#The-GIC)\n",
    "\n",
    "[A figure](http://econ.jhu.edu/people/ccarroll/papers/BufferStockTheory/#FVACnotGIC) in the paper depicts a solution when the **FVAC** [(Finite Value of Autarky Condition)](https://llorracc.github.io/BufferStockTheory/#FVAC) and **WRIC** [(Weak Return Impatience Condition)](https://llorracc.github.io/BufferStockTheory/#WRIC) hold (so that the model has a solution) but the **GIC** [(Growth Impatience Condition)](https://llorracc.github.io/BufferStockTheory/#GIC) fails:\n",
    "\n",
    "\\begin{eqnarray}\n",
    "\\mathbb{E}\\left[\\frac{\\Phi}{\\Gamma\\psi}\\right] & < & 1\n",
    "\\end{eqnarray}\n",
    "\n",
    "(see [Calibrated Parameters](https://llorracc.github.io/BufferStockTheory/#Calibration) and [Definitions and Characteristics Calculated from Parameters](https://llorracc.github.io/BufferStockTheory/#Symbols))\n",
    "\n",
    "Use the slider to see what happens as you move $\\sigma_{\\psi}$ from below to above the value that makes the GIC-Nrm condition fail.  \n",
    "\n",
    "| Param | Description | Code | Value |\n",
    "| :---: | ---         | ---  | :---: |\n",
    "| $\\sigma_{\\psi}$ | Std Dev Perm Shk | `permShkStd` | 0.2 |\n",
    "\n"
   ]
  },
  {
   "cell_type": "code",
   "execution_count": null,
   "metadata": {},
   "outputs": [],
   "source": [
    "# Make consumer more patient by doubling uncertainty\n",
    "BST.base_params['permShkStd'] = [2 * 0.1]\n",
    "\n",
    "# Give solution a bit more precision by increasing density of shocks\n",
    "BST.base_params['permShkCount'] = BST.permShkCount = 7  #  extra points for accuracy\n",
    "\n",
    "# Construct an instance, and unquietly describe it\n",
    "GICNrmFailsButGICRawHolds = \\\n",
    "    IndShockConsumerType(**BST.base_params,\n",
    "                         quietly=False,\n",
    "                         messaging_level=10) # level 10 is all messages"
   ]
  },
  {
   "cell_type": "code",
   "execution_count": null,
   "metadata": {
    "lines_to_next_cell": 2
   },
   "outputs": [],
   "source": [
    "# Under starting parameters, this example has a steady state m but not a target m \n",
    "# (the consumption function intersects with the M growth but not the m change locus)\n",
    "# If permanent shock std is reduced, it will have both steady state m and target m\n",
    "\n",
    "GICFailsExample_widget = interactive(\n",
    "    BST.makeGICFailExample,\n",
    "    DiscFac=BST.DiscFac_widget[1],\n",
    "    permShkStd=BST.permShkStd_alt_start_widget[1],\n",
    "    UnempPrb=BST.UnempPrb_widget[1],\n",
    ")\n",
    "GICFailsExample_widget"
   ]
  },
  {
   "cell_type": "markdown",
   "metadata": {},
   "source": [
    "### [Balanced Growth \"Steady State Equilibrium\" $m$, \"Target\" m, Expected Consumption Growth, and Permanent Income Growth](https://econ.jhu.edu/people/ccarroll/papers/BufferStockTheory/#AnalysisoftheConvergedConsumptionFunction)\n",
    "\n",
    "The next figure is shown in  [Analysis of the Converged Consumption Function](https://econ.jhu.edu/people/ccarroll/papers/BufferStockTheory/#cGroTargetFig), and depicts the expected consumption growth factor $\\mathrm{\\mathbb{E}}_{t}[\\pmb{\\mathrm{c}}_{t+1}/\\pmb{\\mathrm{c}}_{t}]$ for a consumer behaving according to the converged consumption rule, along with the expected growth factor for market resources $\\mathrm{\\mathbb{E}}_{t}[\\pmb{\\mathrm{m}}_{t+1}/\\pmb{\\mathrm{m}}_{t}]$, and the expected growth factor for the ratio of market resources to permanent income, $\\mathrm{\\mathbb{E}}_{t}[m_{t+1}/m_{t}]$.\n",
    "\n",
    "Manipulate the time preference and income growth factors to show the effects on target and pseudo-steady-state (\"balanced growth\") wealth, whose numerical values appear above the figure."
   ]
  },
  {
   "cell_type": "code",
   "execution_count": null,
   "metadata": {
    "tags": []
   },
   "outputs": [],
   "source": [
    "# Explore what happens as you make the consumer more patient in two ways: β ↑ and Γ ↓\n",
    "\n",
    "BST.base_params['permShkStd'] = [0.1]  #  Restore the original default uncertainty\n",
    "cGroTargetFig_widget = interactive(\n",
    "    BST.cGroTargetFig_make,\n",
    "    PermGroFac=BST.PermGroFac_growth_widget[2],\n",
    "    DiscFac=BST.DiscFac_growth_widget[2]\n",
    ")\n",
    "cGroTargetFig_widget"
   ]
  },
  {
   "cell_type": "markdown",
   "metadata": {},
   "source": [
    "### [Consumption Function Bounds](https://econ.jhu.edu/people/ccarroll/papers/BufferStockTheory/#AnalysisOfTheConvergedConsumptionFunction)\n",
    "[The next figure](https://econ.jhu.edu/people/ccarroll/papers/BufferStockTheory/#cFuncBounds)\n",
    "illustrates theoretical bounds for the consumption function.\n",
    "\n",
    "We define two useful variables: lower bound of $\\kappa$ (the marginal propensity to consume) and the limit of $h$ (Human wealth), along with some functions such as the limiting perfect foresight consumption function $\\bar{c}(m)$, the upper bound function $\\bar{\\bar c}(m)$, and the lower bound function $\\underline{c}(m)$.\n",
    "\n",
    "Recall that the Perfect Forsight Return Impatience Condition is:\n",
    "\\begin{eqnarray}\n",
    "(R \\beta)^{1/\\rho} & < & R\n",
    "\\\\ \\beta & < & R^{\\rho-1}\n",
    "\\end{eqnarray}\n",
    "\n",
    "In the figure below, we set $R$ and $\\Gamma$ to fixed values of 1.0.  Explore what happens to the consumption function as you move the parameters as far as you can toward the perfect foresight model and the time preference factor up toward 1 (warning: the model takes longer to solve if the RIC is close to failing; be patient).  What would you expect to see if the upper boundary of the figure were extended far enough?  \n",
    "\n",
    "Notice that the model with uncertainty gets very close to the perfect foresight model only when the uncertainty is tuned down to the very lowest possible levels and the time preference rate is set to a high number."
   ]
  },
  {
   "cell_type": "code",
   "execution_count": null,
   "metadata": {
    "lines_to_next_cell": 2
   },
   "outputs": [],
   "source": [
    "cFuncBounds_widget = interactive(\n",
    "    BST.makeBoundsFigure,\n",
    "    UnempPrb=BST.UnempPrb_widget[3],\n",
    "    permShkStd=BST.permShkStd_widget[3],\n",
    "    TranShkStd=BST.TranShkStd_widget[3],\n",
    "    DiscFac=BST.DiscFac_widget[3],\n",
    "    CRRA=BST.CRRA_widget[3]\n",
    ")\n",
    "cFuncBounds_widget"
   ]
  },
  {
   "cell_type": "markdown",
   "metadata": {},
   "source": [
    "### [Upper and Lower Limits of the Marginal Propensity to Consume](https://econ.jhu.edu/people/ccarroll/papers/BufferStockTheory/#MPCLimits)\n",
    "\n",
    "This figure from the paper requires a very fine grid in order to capture the smooth variation in the MPC.  \n",
    "\n",
    "As a result, recomputation of the figure is too slow to be usable as a widget in real time (with current technology)."
   ]
  }
 ],
 "metadata": {
  "jupytext": {
   "cell_metadata_filter": "ExecuteTime,autoscroll,heading_collapsed,hidden,pycharm,tags,jupyter,-hide_ouput,-code_folding",
   "cell_metadata_json": true,
   "encoding": "# -*- coding: utf-8 -*-",
   "formats": "ipynb,py:percent",
   "notebook_metadata_filter": "all"
  },
  "kernelspec": {
   "display_name": "Python 3 (ipykernel)",
   "language": "python",
   "name": "python3"
  },
  "language_info": {
   "codemirror_mode": {
    "name": "ipython",
    "version": 3
   },
   "file_extension": ".py",
   "mimetype": "text/x-python",
   "name": "python",
   "nbconvert_exporter": "python",
   "pygments_lexer": "ipython3",
   "version": "3.8.12"
  },
  "latex_envs": {
   "LaTeX_envs_menu_present": true,
   "autoclose": false,
   "autocomplete": false,
   "bibliofile": "biblio.bib",
   "cite_by": "apalike",
   "current_citInitial": 1,
   "eqLabelWithNumbers": true,
   "eqNumInitial": 1,
   "hotkeys": {
    "equation": "Ctrl-E",
    "itemize": "Ctrl-I"
   },
   "labels_anchors": false,
   "latex_user_defs": false,
   "report_style_numbering": false,
   "user_envs_cfg": false
  }
 },
 "nbformat": 4,
 "nbformat_minor": 4
}
